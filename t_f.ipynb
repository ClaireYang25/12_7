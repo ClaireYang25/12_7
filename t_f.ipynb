{
  "nbformat": 4,
  "nbformat_minor": 0,
  "metadata": {
    "colab": {
      "name": "4.ipynb",
      "provenance": [],
      "collapsed_sections": []
    },
    "kernelspec": {
      "name": "python3",
      "display_name": "Python 3"
    }
  },
  "cells": [
    {
      "cell_type": "code",
      "metadata": {
        "colab": {
          "base_uri": "https://localhost:8080/"
        },
        "id": "b7OBUZPeEakf",
        "outputId": "c4090691-102e-48af-eed9-6810014b2b08"
      },
      "source": [
        "def meeting():\n",
        "    print('Hello! My name is Altair.')\n",
        "    print('I was created in 2020')\n",
        "\n",
        "\n",
        "def name_():\n",
        "    print(\"Please, remind me your name.\")\n",
        "    name = input(\" > \")\n",
        "    print(\"What a great name you have, \" + name)\n",
        "\n",
        "\n",
        "def guess_():\n",
        "    print(\"Let me guess your age.\")\n",
        "    print(\"Enter remainders of dividing your age by 3, 5 and 7.\")\n",
        "\n",
        "    remainder1 = int(input())\n",
        "    remainder2 = int(input())\n",
        "    remainder3 = int(input())\n",
        "    age = (remainder1 * 70 + remainder2 * 21 + remainder3 * 15) % 105\n",
        "    print(\"Your age is \", age, \": that's a good time to start programming!\")\n",
        "\n",
        "\n",
        "def count():\n",
        "    print('Now I will prove to you that I can count to any number you want.')\n",
        "    n = int(input())\n",
        "    k = 0\n",
        "    while k <= n:\n",
        "        print(k, '!')\n",
        "        k += 1\n",
        "\n",
        "\n",
        "def test():\n",
        "    print(\"Let's test your programming knowledge.\")\n",
        "    print(\"Why do we use methods?\")\n",
        "    print(\"1. To repeat a statement multiple times.\")\n",
        "    print(\"2. To decompose a program into several small subroutines.\")\n",
        "    print(\"3. To determine the execution time of a program.\")\n",
        "    print(\"4. To interrupt the execution of a program.\")\n",
        "    number = int(input())\n",
        "    if number != 2:\n",
        "        print('Please, try again.')\n",
        "        n_number = int(input())\n",
        "        if n_number == 2:\n",
        "            print('Completed, have a nice day!')\n",
        "    else:\n",
        "        print('Completed, have a nice day!')\n",
        "\n",
        "\n",
        "def end():\n",
        "    print(\"Congratulations, have a nice day!\")\n",
        "\n",
        "\n",
        "meeting()\n",
        "name_()\n",
        "guess_()\n",
        "count()\n",
        "test()\n",
        "end()\n"
      ],
      "execution_count": null,
      "outputs": [
        {
          "output_type": "stream",
          "text": [
            "Hello! My name is Altair.\n",
            "I was created in 2020\n",
            "Please, remind me your name.\n"
          ],
          "name": "stdout"
        }
      ]
    }
  ]
}