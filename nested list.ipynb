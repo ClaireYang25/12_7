{
  "nbformat": 4,
  "nbformat_minor": 0,
  "metadata": {
    "colab": {
      "name": "Untitled20.ipynb",
      "provenance": []
    },
    "kernelspec": {
      "name": "python3",
      "display_name": "Python 3"
    }
  },
  "cells": [
    {
      "cell_type": "code",
      "metadata": {
        "id": "8yqQaIAnptgf"
      },
      "source": [
        "string_with_digits = input()\r\n",
        "x = [int(i) for i in string_with_digits]\r\n",
        "final_result = []\r\n",
        "for j in range(len(x) - 1):\r\n",
        "    moving_ave = (x[j] + x[j + 1]) / 2\r\n",
        "    final_result.append(moving_ave)\r\n",
        "print(final_result)\r\n",
        "#num = [int(x) for x in input()]\r\n",
        "#print([(num[x] + num[x + 1]) / 2 for x in range(len(num) - 1)])\r\n",
        "\r\n"
      ],
      "execution_count": null,
      "outputs": []
    },
    {
      "cell_type": "markdown",
      "metadata": {
        "id": "CYn0rhUXpyvD"
      },
      "source": [
        "notice the range could achieve the moving ave."
      ]
    }
  ]
}