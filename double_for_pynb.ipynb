{
  "nbformat": 4,
  "nbformat_minor": 0,
  "metadata": {
    "colab": {
      "name": "double_for.pynb",
      "provenance": []
    },
    "kernelspec": {
      "name": "python3",
      "display_name": "Python 3"
    }
  },
  "cells": [
    {
      "cell_type": "code",
      "metadata": {
        "id": "eQOdx8ooZ2BJ"
      },
      "source": [
        "# 重要\r\n",
        "\r\n",
        "students = [[\"Jane\", \"B\"], [\"Kate\", \"B\"], [\"Alex\", \"C\"], [\"Elsa\", \"A\"], [\"Max\", \"B\"], [\"Chris\", \"A\"]]\r\n",
        "\r\n",
        "final_list = []\r\n",
        "for sub_list in students:\r\n",
        "  for final_results in sub_list:\r\n",
        "    if(sub_list[1] == \"A\"):\r\n",
        "\r\n",
        "      final_list.append(final_results)\r\n",
        "\r\n",
        "del final_list[1]\r\n",
        "del final_list[2]\r\n",
        "print(final_list)\r\n",
        "\r\n",
        "\r\n",
        "\r\n",
        "print([name for name, grade in students if grade == 'A'])\r\n",
        "\r\n",
        "\r\n",
        "\r\n",
        "students = [[\"Jane\", \"B\"], [\"Kate\", \"B\"], [\"Alex\", \"C\"], [\"Elsa\", \"A\"], [\"Max\", \"B\"], [\"Chris\", \"A\"]]\r\n",
        "\r\n",
        "s = [ final_results for sub_list in students for final_results in sub_list if sub_list[1] == \"A\" ]\r\n",
        "s.pop(1)\r\n",
        "s.pop(2)\r\n",
        "print(s)\r\n",
        "\r\n",
        "\r\n",
        "\r\n",
        "\r\n",
        "\r\n",
        "print([info[0] for info in students if info[1] == 'A'])\r\n"
      ],
      "execution_count": null,
      "outputs": []
    }
  ]
}